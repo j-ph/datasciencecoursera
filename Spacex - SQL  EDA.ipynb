{
 "cells": [
  {
   "cell_type": "markdown",
   "id": "151fe943",
   "metadata": {},
   "source": [
    "## Due to numerous connection problems with DB2 cloud, I runned queries on SQL Server.\n",
    "### Sql Server Management Studio (SSMS) is the tool used and it offers the option of redirecting query results in files and display them"
   ]
  },
  {
   "cell_type": "markdown",
   "id": "5e173af1",
   "metadata": {},
   "source": [
    "## Task 1"
   ]
  },
  {
   "cell_type": "markdown",
   "id": "47e785e1",
   "metadata": {},
   "source": [
    "#### Display the names of the unique launch sites in the space mission"
   ]
  },
  {
   "cell_type": "code",
   "execution_count": null,
   "id": "2c7bab3d",
   "metadata": {},
   "outputs": [],
   "source": [
    "SELECT DISTINCT launch_site FROM Fspacex"
   ]
  },
  {
   "cell_type": "raw",
   "id": "b05bbd94",
   "metadata": {},
   "source": [
    "--\n",
    "--#1 Display the names of the unique launch sites in the space mission\n",
    "SELECT DISTINCT launch_site FROM Fspacex;\n",
    "--\n",
    "launch_site\n",
    "--------------------------------------------------\n",
    "CCAFS LC-40\n",
    "CCAFS SLC-40\n",
    "KSC LC-39A\n",
    "VAFB SLC-4E\n",
    "\n",
    "(4 rows affected)"
   ]
  },
  {
   "cell_type": "markdown",
   "id": "56e0b17e",
   "metadata": {},
   "source": [
    "### Task 2"
   ]
  },
  {
   "cell_type": "markdown",
   "id": "8a6cacc8",
   "metadata": {},
   "source": [
    "#### Display 5 records where launch sites begin with the string 'CCA'"
   ]
  },
  {
   "cell_type": "code",
   "execution_count": null,
   "id": "723223b4",
   "metadata": {},
   "outputs": [],
   "source": [
    "SELECT top 5 * FROM Fspacex WHERE launch_site LIKE 'CCA%'"
   ]
  },
  {
   "cell_type": "raw",
   "id": "8d35546c",
   "metadata": {},
   "source": [
    "--\n",
    "--#2 Display 5 records where launch sites begin with the string 'CCA'\n",
    "SELECT top 5 * FROM Fspacex WHERE launch_site LIKE 'CCA%'\n",
    "--\n",
    "Date       Time_UTC         Booster_Version                                    Launch_Site                                        Payload                                                                                              PAYLOAD_MASS_KG Orbit                                              Customer                                                                                             Mission_Outcome                                    Landing_Outcome\n",
    "---------- ---------------- -------------------------------------------------- -------------------------------------------------- ---------------------------------------------------------------------------------------------------- --------------- -------------------------------------------------- ---------------------------------------------------------------------------------------------------- -------------------------------------------------- --------------------------------------------------\n",
    "2010-04-06 18:45:00.0000000 F9 v1.0  B0003                                     CCAFS LC-40                                        Dragon Spacecraft Qualification Unit                                                                 0               LEO                                                SpaceX                                                                                               Success                                            Failure (parachute)\n",
    "2010-08-12 15:43:00.0000000 F9 v1.0  B0004                                     CCAFS LC-40                                        Dragon demo flight C1, two CubeSats, barrel of Brouere cheese                                        0               LEO (ISS)                                          NASA (COTS) NRO                                                                                      Success                                            Failure (parachute)\n",
    "2012-05-22 07:44:00.0000000 F9 v1.0  B0005                                     CCAFS LC-40                                        Dragon demo flight C2                                                                                525             LEO (ISS)                                          NASA (COTS)                                                                                          Success                                            No attempt\n",
    "2012-08-10 00:35:00.0000000 F9 v1.0  B0006                                     CCAFS LC-40                                        SpaceX CRS-1                                                                                         500             LEO (ISS)                                          NASA (CRS)                                                                                           Success                                            No attempt\n",
    "2013-01-03 15:10:00.0000000 F9 v1.0  B0007                                     CCAFS LC-40                                        SpaceX CRS-2                                                                                         677             LEO (ISS)                                          NASA (CRS)                                                                                           Success                                            No attempt\n",
    "\n",
    "(5 rows affected)\n"
   ]
  },
  {
   "cell_type": "markdown",
   "id": "8e46574f",
   "metadata": {},
   "source": [
    "### Task 3"
   ]
  },
  {
   "cell_type": "markdown",
   "id": "3557c639",
   "metadata": {},
   "source": [
    "#### Display the total payload mass carried by boosters launched by NASA (CRS)"
   ]
  },
  {
   "cell_type": "code",
   "execution_count": null,
   "id": "d385d227",
   "metadata": {},
   "outputs": [],
   "source": [
    "SELECT SUM(payload_mass_kg) TOTAL_MASS FROM Fspacex WHERE payload LIKE '%CRS%'"
   ]
  },
  {
   "cell_type": "raw",
   "id": "2c89284e",
   "metadata": {},
   "source": [
    "--\n",
    "--#3 Display the total payload mass carried by boosters launched by NASA (CRS)\n",
    "  SELECT SUM(payload_mass_kg) TOTAL_MASS FROM Fspacex WHERE payload LIKE '%CRS%';\n",
    "--\n",
    "TOTAL_MASS\n",
    "-----------\n",
    "111268\n",
    "\n",
    "(1 row affected)\n"
   ]
  },
  {
   "cell_type": "markdown",
   "id": "c006eb0c",
   "metadata": {},
   "source": [
    "### Task 4"
   ]
  },
  {
   "cell_type": "markdown",
   "id": "19824e4a",
   "metadata": {},
   "source": [
    "#### Display average payload mass carried by booster version F9 v1.1"
   ]
  },
  {
   "cell_type": "code",
   "execution_count": null,
   "id": "c9bd3e20",
   "metadata": {},
   "outputs": [],
   "source": [
    "SELECT AVG(payload_mass_kg) AVG_MASS FROM Fspacex WHERE booster_version LIKE '%F9 v1.1%'"
   ]
  },
  {
   "cell_type": "raw",
   "id": "61c1809f",
   "metadata": {},
   "source": [
    "--\n",
    "---#4 Display average payload mass carried by booster version F9 v1.1\n",
    "  SELECT AVG(payload_mass_kg) AVG_MASS FROM Fspacex WHERE booster_version LIKE '%F9 v1.1%';\n",
    "--\n",
    "AVG_MASS\n",
    "-----------\n",
    "2534\n",
    "\n",
    "(1 row affected)"
   ]
  },
  {
   "cell_type": "markdown",
   "id": "a292232d",
   "metadata": {},
   "source": [
    "### Task 5"
   ]
  },
  {
   "cell_type": "markdown",
   "id": "30ce7f80",
   "metadata": {},
   "source": [
    "#### List the date when the first successful landing outcome in ground pad was acheived"
   ]
  },
  {
   "cell_type": "code",
   "execution_count": null,
   "id": "b09acbe8",
   "metadata": {},
   "outputs": [],
   "source": [
    "SELECT MIN(date) FROM Fspacex WHERE mission_outcome LIKE 'Success%'"
   ]
  },
  {
   "cell_type": "raw",
   "id": "a94b619e",
   "metadata": {},
   "source": [
    "--\n",
    "--#5 List the date when the first successful landing outcome in ground pad was acheived.\n",
    "  SELECT MIN(date) FIRST_SUCCESS FROM Fspacex WHERE mission_outcome LIKE 'Success%';\n",
    "--\n",
    "FIRST_SUCCESS\n",
    "-------------\n",
    "2010-04-06\n",
    "\n",
    "(1 row affected)"
   ]
  },
  {
   "cell_type": "markdown",
   "id": "32722d78",
   "metadata": {},
   "source": [
    "### Task 6"
   ]
  },
  {
   "cell_type": "markdown",
   "id": "1e456393",
   "metadata": {},
   "source": [
    "#### List the names of the boosters which have success in drone ship and have payload mass greater than 4000 but less than 6000"
   ]
  },
  {
   "cell_type": "code",
   "execution_count": null,
   "id": "29d8c5b6",
   "metadata": {},
   "outputs": [],
   "source": [
    "SELECT booster_version FROM Fspacex WHERE landing_outcome LIKE '%Success (drone ship)%' AND payload_mass_kg > 4000 and payload_mass_kg < 6000"
   ]
  },
  {
   "cell_type": "raw",
   "id": "bdc42ef3",
   "metadata": {},
   "source": [
    "--\n",
    "--#6 List the names of the boosters which have success in drone ship and have payload mass greater than 4000 but less than 6000\n",
    "SELECT booster_version FROM Fspacex WHERE landing_outcome LIKE '%Success (drone ship)%' AND payload_mass_kg > 4000 and payload_mass_kg < 6000;\n",
    "--\n",
    "booster_version\n",
    "--------------------------------------------------\n",
    "F9 FT B1022\n",
    "F9 FT B1026\n",
    "F9 FT  B1021.2\n",
    "F9 FT  B1031.2\n",
    "\n",
    "(4 rows affected)"
   ]
  },
  {
   "cell_type": "markdown",
   "id": "dc5d40b9",
   "metadata": {},
   "source": []
  },
  {
   "cell_type": "markdown",
   "id": "da7b0583",
   "metadata": {},
   "source": [
    "### Task 7"
   ]
  },
  {
   "cell_type": "markdown",
   "id": "2f3a6e67",
   "metadata": {},
   "source": [
    "#### List the total number of successful and failure mission outcomes"
   ]
  },
  {
   "cell_type": "code",
   "execution_count": null,
   "id": "0e2accae",
   "metadata": {},
   "outputs": [],
   "source": [
    "SELECT COUNT(*) SUCCESS FROM Fspacex WHERE mission_outcome LIKE '%Success%'"
   ]
  },
  {
   "cell_type": "code",
   "execution_count": null,
   "id": "5ecb6fd7",
   "metadata": {},
   "outputs": [],
   "source": [
    "SELECT COUNT(*) FAILURE FROM Fspacex WHERE mission_outcome LIKE '%Failure%'"
   ]
  },
  {
   "cell_type": "raw",
   "id": "313df190",
   "metadata": {},
   "source": [
    "--\n",
    "--#7 List the total number of successful and failure mission outcomes\n",
    "SELECT COUNT(*) SUCCESS FROM Fspacex WHERE mission_outcome LIKE '%Success%'\n",
    "SELECT COUNT(*) FAILURE FROM Fspacex WHERE mission_outcome LIKE '%Failure%'\n",
    "--\n",
    "SUCCESS\n",
    "-----------\n",
    "100\n",
    "\n",
    "(1 row affected)\n",
    "\n",
    "FAILURE\n",
    "-----------\n",
    "1\n",
    "\n",
    "(1 row affected)"
   ]
  },
  {
   "cell_type": "markdown",
   "id": "455d3e62",
   "metadata": {},
   "source": [
    "### Task 8"
   ]
  },
  {
   "cell_type": "markdown",
   "id": "597060fd",
   "metadata": {},
   "source": [
    "#### List the names of the booster_versions which have carried the maximum payload mass. Use a subquery"
   ]
  },
  {
   "cell_type": "code",
   "execution_count": null,
   "id": "51b922ce",
   "metadata": {},
   "outputs": [],
   "source": [
    "SELECT booster_version FROM Fspacex WHERE payload_mass_kg = (SELECT MAX(payload_mass_kg) FROM Fspacex)"
   ]
  },
  {
   "cell_type": "raw",
   "id": "3ded283c",
   "metadata": {},
   "source": [
    "--\n",
    "--#8 List the names of the booster_versions which have carried the maximum payload mass. Use a subquery\n",
    "SELECT booster_version FROM Fspacex WHERE payload_mass_kg = (SELECT MAX(payload_mass_kg) FROM Fspacex);\n",
    "--\n",
    "booster_version\n",
    "--------------------------------------------------\n",
    "F9 B5 B1048.4\n",
    "F9 B5 B1049.4\n",
    "F9 B5 B1051.3\n",
    "F9 B5 B1056.4\n",
    "F9 B5 B1048.5\n",
    "F9 B5 B1051.4\n",
    "F9 B5 B1049.5\n",
    "F9 B5 B1060.2 \n",
    "F9 B5 B1058.3 \n",
    "F9 B5 B1051.6\n",
    "F9 B5 B1060.3\n",
    "F9 B5 B1049.7 \n",
    "\n",
    "(12 rows affected)"
   ]
  },
  {
   "cell_type": "markdown",
   "id": "272de722",
   "metadata": {},
   "source": [
    "### Task 9"
   ]
  },
  {
   "cell_type": "markdown",
   "id": "b207c691",
   "metadata": {},
   "source": [
    "#### List the failed landing_outcomes in drone ship, their booster versions, and launch site names for in year 2015"
   ]
  },
  {
   "cell_type": "code",
   "execution_count": null,
   "id": "26762e0c",
   "metadata": {},
   "outputs": [],
   "source": [
    "SELECT date, landing_outcome, booster_version, launch_site FROM Fspacex WHERE landing_outcome LIKE '%Failure (drone ship)%' AND YEAR(DATE) =2015"
   ]
  },
  {
   "cell_type": "raw",
   "id": "7c0dc83b",
   "metadata": {},
   "source": [
    "--\n",
    "--#9 List the failed landing_outcomes in drone ship, their booster versions, and launch site names for in year 2015\n",
    "SELECT date, landing_outcome, booster_version, launch_site FROM Fspacex WHERE landing_outcome LIKE '%Failure (drone ship)%' AND YEAR(DATE) = 2015;\n",
    "--\n",
    "date       landing_outcome                                    booster_version                                    launch_site\n",
    "---------- -------------------------------------------------- -------------------------------------------------- --------------------------------------------------\n",
    "2015-10-01 Failure (drone ship)                               F9 v1.1 B1012                                      CCAFS LC-40\n",
    "2015-04-14 Failure (drone ship)                               F9 v1.1 B1015                                      CCAFS LC-40\n",
    "\n",
    "(2 rows affected)"
   ]
  },
  {
   "cell_type": "markdown",
   "id": "27e82e88",
   "metadata": {},
   "source": [
    "### Task 10"
   ]
  },
  {
   "cell_type": "markdown",
   "id": "70eeb96f",
   "metadata": {},
   "source": [
    "#### Rank the count of landing outcomes (such as Failure (drone ship) or Success (ground pad)) between the date 2010-06-04 and 2017-03-20, in descending order"
   ]
  },
  {
   "cell_type": "code",
   "execution_count": null,
   "id": "a3820988",
   "metadata": {},
   "outputs": [],
   "source": [
    "SELECT landing_outcome, COUNT(*) AS counts FROM Fspacex WHERE date BETWEEN '2010-06-04' AND '2017-03-20' GROUP BY landing_outcome ORDER BY counts DESC"
   ]
  },
  {
   "cell_type": "raw",
   "id": "a0f8f069",
   "metadata": {},
   "source": [
    "--\n",
    "--#10 Rank the count of landing outcomes (such as Failure (drone ship) or Success (ground pad)) between the date 2010-06-04 and 2017-03-20, in descending order\n",
    "--\n",
    "SELECT landing_outcome, COUNT(*) AS counts FROM Fspacex WHERE date BETWEEN '2010-06-04' AND '2017-03-20' GROUP BY landing_outcome ORDER BY counts DESC;\n",
    "--\n",
    "landing_outcome                                    counts\n",
    "-------------------------------------------------- -----------\n",
    "No attempt                                         10\n",
    "Failure (drone ship)                               5\n",
    "Success (drone ship)                               5\n",
    "Success (ground pad)                               5\n",
    "Controlled (ocean)                                 3\n",
    "Uncontrolled (ocean)                               2\n",
    "Failure (parachute)                                1\n",
    "Precluded (drone ship)                             1\n",
    "\n",
    "(8 rows affected)\n"
   ]
  },
  {
   "cell_type": "code",
   "execution_count": null,
   "id": "1942ac3d",
   "metadata": {},
   "outputs": [],
   "source": []
  }
 ],
 "metadata": {
  "kernelspec": {
   "display_name": "Python 3 (ipykernel)",
   "language": "python",
   "name": "python3"
  },
  "language_info": {
   "codemirror_mode": {
    "name": "ipython",
    "version": 3
   },
   "file_extension": ".py",
   "mimetype": "text/x-python",
   "name": "python",
   "nbconvert_exporter": "python",
   "pygments_lexer": "ipython3",
   "version": "3.9.13"
  }
 },
 "nbformat": 4,
 "nbformat_minor": 5
}
